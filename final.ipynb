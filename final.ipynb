{
 "cells": [
  {
   "cell_type": "markdown",
   "id": "6c3c4e2b-6bf8-4997-9b1f-b8efbe343b9f",
   "metadata": {},
   "source": [
    "# CSC17104 – Programming for Data Science"
   ]
  },
  {
   "cell_type": "markdown",
   "id": "8317d6bc-6646-4e04-9998-df536cd66b86",
   "metadata": {},
   "source": [
    "## Final Project\n"
   ]
  },
  {
   "cell_type": "markdown",
   "id": "d013ab8e-f5b0-4d6a-9e95-3d86a6ba736a",
   "metadata": {},
   "source": [
    "## 1. Programming environment"
   ]
  },
  {
   "cell_type": "code",
   "execution_count": 1,
   "id": "78fdd719-197c-4783-8d84-c7272d516f66",
   "metadata": {},
   "outputs": [
    {
     "data": {
      "text/plain": [
       "'C:\\\\Users\\\\ASUS\\\\miniconda3\\\\envs\\\\min_ds-env\\\\python.exe'"
      ]
     },
     "execution_count": 1,
     "metadata": {},
     "output_type": "execute_result"
    }
   ],
   "source": [
    "import sys\n",
    "sys.executable"
   ]
  },
  {
   "cell_type": "markdown",
   "id": "5284eaed-a763-4b11-b361-a803b9ab200f",
   "metadata": {},
   "source": [
    "## 2. Data collection"
   ]
  },
  {
   "cell_type": "markdown",
   "id": "bdf98199-e803-4421-862e-988a082bec00",
   "metadata": {},
   "source": [
    "   The data is titled **\"Mobile Device Usage and User Behavior Dataset\"** authored by Seyedvala Khorasani with collaboration from Vala Khorasani, and is available on [Kaggle](https://www.kaggle.com/datasets/valakhorasani/mobile-device-usage-and-user-behavior-dataset/data). The dataset is licensed under the ***Apache 2.0 License***, which permits free use, modification, and distribution, provided proper attribution is given and any derivative works comply with the same license terms.\n",
    "   \n",
    "   This dataset provides a comprehensive analysis of mobile device usage patterns and user behavior classification. It contains 700 samples of user data, including metrics such as app usage time, screen-on time, battery drain, and data consumption. Each entry is categorized into one of five user behavior classes, ranging from light to extreme usage, allowing for insightful analysis and modeling.\n",
    "\n",
    "Key Features:\n",
    "* User ID: Unique identifier for each user.\n",
    "* Device Model: Model of the user's smartphone.\n",
    "* Operating System: The OS of the device (iOS or Android).\n",
    "* App Usage Time: Daily time spent on mobile applications, measured in minutes.\n",
    "* Screen On Time: Average hours per day the screen is active.\n",
    "* Battery Drain: Daily battery consumption in mAh.\n",
    "* Number of Apps Installed: Total apps available on the device.\n",
    "* Data Usage: Daily mobile data consumption in megabytes.\n",
    "* Age: Age of the user.\n",
    "* Gender: Gender of the user (Male or Female).\n",
    "* User Behavior Class: Classification of user behavior based on usage patterns (1 to 5).\n",
    "  \n",
    "This dataset is ideal for researchers, data scientists, and analysts interested in understanding mobile user behavior and developing predictive models in the realm of mobile technology and applications. This Dataset was primarily designed to implement machine learning algorithms and is not a reliable source for a paper or article."
   ]
  },
  {
   "cell_type": "markdown",
   "id": "b382f51d-cad0-4433-bcdf-be351af02e7e",
   "metadata": {},
   "source": [
    "The dataset description suggests that the data was likely collected through a combination of:\n",
    "\n",
    "- Mobile application analytics to gather metrics like app usage time, screen-on time, and battery consumption.\n",
    "- Device monitoring tools to measure hardware-specific metrics like data usage and number of installed apps.\n",
    "- User surveys or demographic data inputs to collect age, gender, and usage classifications."
   ]
  },
  {
   "cell_type": "markdown",
   "id": "fec32db5-889e-4976-a5fe-865f1fa1a855",
   "metadata": {},
   "source": [
    "## 2. Import necessary libraries"
   ]
  },
  {
   "cell_type": "code",
   "execution_count": 2,
   "id": "01ebee5c-d0e7-4fb3-9669-d947ae10e11e",
   "metadata": {},
   "outputs": [],
   "source": [
    "import pandas as pd\n",
    "import matplotlib.pyplot as plt"
   ]
  },
  {
   "cell_type": "markdown",
   "id": "1b61a667-1cae-41b9-a133-9c641c375041",
   "metadata": {},
   "source": [
    "## 3. Data exploring & Data preprocessing"
   ]
  },
  {
   "cell_type": "markdown",
   "id": "b5c7fc75-01f3-42c0-b427-938690954e2a",
   "metadata": {},
   "source": [
    "### 3.0. Read data"
   ]
  },
  {
   "cell_type": "markdown",
   "id": "c7986d8b-83a1-434d-86a6-5e0b1102743e",
   "metadata": {},
   "source": [
    "Read the datasest and display basic information about the dataset"
   ]
  },
  {
   "cell_type": "code",
   "execution_count": 3,
   "id": "9be777c4-0c46-458d-b6d4-22a6c1b43986",
   "metadata": {},
   "outputs": [
    {
     "data": {
      "text/html": [
       "<div>\n",
       "<style scoped>\n",
       "    .dataframe tbody tr th:only-of-type {\n",
       "        vertical-align: middle;\n",
       "    }\n",
       "\n",
       "    .dataframe tbody tr th {\n",
       "        vertical-align: top;\n",
       "    }\n",
       "\n",
       "    .dataframe thead th {\n",
       "        text-align: right;\n",
       "    }\n",
       "</style>\n",
       "<table border=\"1\" class=\"dataframe\">\n",
       "  <thead>\n",
       "    <tr style=\"text-align: right;\">\n",
       "      <th></th>\n",
       "      <th>User ID</th>\n",
       "      <th>Device Model</th>\n",
       "      <th>Operating System</th>\n",
       "      <th>App Usage Time (min/day)</th>\n",
       "      <th>Screen On Time (hours/day)</th>\n",
       "      <th>Battery Drain (mAh/day)</th>\n",
       "      <th>Number of Apps Installed</th>\n",
       "      <th>Data Usage (MB/day)</th>\n",
       "      <th>Age</th>\n",
       "      <th>Gender</th>\n",
       "      <th>User Behavior Class</th>\n",
       "    </tr>\n",
       "  </thead>\n",
       "  <tbody>\n",
       "    <tr>\n",
       "      <th>0</th>\n",
       "      <td>1</td>\n",
       "      <td>Google Pixel 5</td>\n",
       "      <td>Android</td>\n",
       "      <td>393</td>\n",
       "      <td>6.4</td>\n",
       "      <td>1872</td>\n",
       "      <td>67</td>\n",
       "      <td>1122</td>\n",
       "      <td>40</td>\n",
       "      <td>Male</td>\n",
       "      <td>4</td>\n",
       "    </tr>\n",
       "    <tr>\n",
       "      <th>1</th>\n",
       "      <td>2</td>\n",
       "      <td>OnePlus 9</td>\n",
       "      <td>Android</td>\n",
       "      <td>268</td>\n",
       "      <td>4.7</td>\n",
       "      <td>1331</td>\n",
       "      <td>42</td>\n",
       "      <td>944</td>\n",
       "      <td>47</td>\n",
       "      <td>Female</td>\n",
       "      <td>3</td>\n",
       "    </tr>\n",
       "    <tr>\n",
       "      <th>2</th>\n",
       "      <td>3</td>\n",
       "      <td>Xiaomi Mi 11</td>\n",
       "      <td>Android</td>\n",
       "      <td>154</td>\n",
       "      <td>4.0</td>\n",
       "      <td>761</td>\n",
       "      <td>32</td>\n",
       "      <td>322</td>\n",
       "      <td>42</td>\n",
       "      <td>Male</td>\n",
       "      <td>2</td>\n",
       "    </tr>\n",
       "    <tr>\n",
       "      <th>3</th>\n",
       "      <td>4</td>\n",
       "      <td>Google Pixel 5</td>\n",
       "      <td>Android</td>\n",
       "      <td>239</td>\n",
       "      <td>4.8</td>\n",
       "      <td>1676</td>\n",
       "      <td>56</td>\n",
       "      <td>871</td>\n",
       "      <td>20</td>\n",
       "      <td>Male</td>\n",
       "      <td>3</td>\n",
       "    </tr>\n",
       "    <tr>\n",
       "      <th>4</th>\n",
       "      <td>5</td>\n",
       "      <td>iPhone 12</td>\n",
       "      <td>iOS</td>\n",
       "      <td>187</td>\n",
       "      <td>4.3</td>\n",
       "      <td>1367</td>\n",
       "      <td>58</td>\n",
       "      <td>988</td>\n",
       "      <td>31</td>\n",
       "      <td>Female</td>\n",
       "      <td>3</td>\n",
       "    </tr>\n",
       "  </tbody>\n",
       "</table>\n",
       "</div>"
      ],
      "text/plain": [
       "   User ID    Device Model Operating System  App Usage Time (min/day)  \\\n",
       "0        1  Google Pixel 5          Android                       393   \n",
       "1        2       OnePlus 9          Android                       268   \n",
       "2        3    Xiaomi Mi 11          Android                       154   \n",
       "3        4  Google Pixel 5          Android                       239   \n",
       "4        5       iPhone 12              iOS                       187   \n",
       "\n",
       "   Screen On Time (hours/day)  Battery Drain (mAh/day)  \\\n",
       "0                         6.4                     1872   \n",
       "1                         4.7                     1331   \n",
       "2                         4.0                      761   \n",
       "3                         4.8                     1676   \n",
       "4                         4.3                     1367   \n",
       "\n",
       "   Number of Apps Installed  Data Usage (MB/day)  Age  Gender  \\\n",
       "0                        67                 1122   40    Male   \n",
       "1                        42                  944   47  Female   \n",
       "2                        32                  322   42    Male   \n",
       "3                        56                  871   20    Male   \n",
       "4                        58                  988   31  Female   \n",
       "\n",
       "   User Behavior Class  \n",
       "0                    4  \n",
       "1                    3  \n",
       "2                    2  \n",
       "3                    3  \n",
       "4                    3  "
      ]
     },
     "execution_count": 3,
     "metadata": {},
     "output_type": "execute_result"
    }
   ],
   "source": [
    "file_path = 'user_behavior_dataset.csv'\n",
    "data = pd.read_csv(file_path)\n",
    "\n",
    "data.head()"
   ]
  },
  {
   "cell_type": "markdown",
   "id": "68ae3acc-b0fa-422a-8268-aaa21f40821b",
   "metadata": {},
   "source": [
    "### 3.1. The meaning of each column/row\n"
   ]
  },
  {
   "cell_type": "markdown",
   "id": "c2124c28-d182-4847-bc69-1d576e272395",
   "metadata": {},
   "source": [
    "How many rows and how many columns?"
   ]
  },
  {
   "cell_type": "code",
   "execution_count": 4,
   "id": "5595895f-bddf-433d-8b5a-0dd51c643341",
   "metadata": {},
   "outputs": [
    {
     "name": "stdout",
     "output_type": "stream",
     "text": [
      "The dataset has 700 rows and 11 columns.\n"
     ]
    }
   ],
   "source": [
    "rows, columns = data.shape\n",
    "print(f\"The dataset has {rows} rows and {columns} columns.\")"
   ]
  },
  {
   "cell_type": "markdown",
   "id": "5a7ffe20-ba30-42d5-b434-377d24382f68",
   "metadata": {},
   "source": [
    "### Rows"
   ]
  },
  {
   "cell_type": "markdown",
   "id": "4f26fd28-060c-44c4-b8cf-531c7a4fa3b2",
   "metadata": {},
   "source": [
    "#### The meaning of each row:\n",
    "\n",
    "Each row provides some infomation about a single user’s mobile usage behavior, device characteristics, and demographic information, which can be used for analysis and modeling."
   ]
  },
  {
   "cell_type": "markdown",
   "id": "ab77cdfe-ab96-44e3-80e6-91eb7b3acb98",
   "metadata": {},
   "source": [
    "### Columns"
   ]
  },
  {
   "cell_type": "markdown",
   "id": "f243567c-aa46-4f2e-8f0a-a898156a06ac",
   "metadata": {},
   "source": [
    "#### The meaning of each colums:\n",
    "\n",
    "- User ID: Unique identifier for the user.\n",
    "- Device Model: The specific model of the user’s smartphone.\n",
    "- Operating System: The OS running on the user’s device (e.g., Android or iOS).\n",
    "- App Usage Time (min/day): The total time (in minutes) the user spends on mobile apps daily.\n",
    "- Screen On Time (hours/day): The total number of hours the screen remains active daily.\n",
    "- Battery Drain (mAh/day): The daily battery consumption of the user’s device in milliampere-hours (mAh).\n",
    "- Number of Apps Installed: Total number of applications installed on the user’s device.\n",
    "- Data Usage (MB/day): The daily amount of mobile data consumed by the user in megabytes (MB).\n",
    "- Age: The age of the user.\n",
    "- Gender: The gender of the user (Male or Female).\n",
    "- User Behavior Class: A classification (from 1 to 5) categorizing the user based on their mobile usage behavior (e.g., light, moderate, or extreme usage).\n"
   ]
  },
  {
   "cell_type": "markdown",
   "id": "91dca5cb-a6d7-4708-aa75-0107105a7fdb",
   "metadata": {},
   "source": [
    "### 3.2. Duplicated rows"
   ]
  },
  {
   "cell_type": "markdown",
   "id": "d5fa6a44-0e65-4291-b7d0-c053ff46abf8",
   "metadata": {},
   "source": [
    "Are there duplicated rows?"
   ]
  },
  {
   "cell_type": "code",
   "execution_count": 5,
   "id": "c831e6c9-22f7-404b-8a11-2c9ae445dc90",
   "metadata": {},
   "outputs": [
    {
     "name": "stdout",
     "output_type": "stream",
     "text": [
      "The dataset has 0 duplicated rows.\n"
     ]
    }
   ],
   "source": [
    "duplicated_rows = data.duplicated().sum()\n",
    "print(f\"The dataset has {duplicated_rows} duplicated rows.\")"
   ]
  },
  {
   "cell_type": "markdown",
   "id": "ae810234-bc0a-476b-aafe-ec059190f926",
   "metadata": {},
   "source": [
    "### 3.3. Data conversion"
   ]
  },
  {
   "cell_type": "code",
   "execution_count": 6,
   "id": "326741cb-f91f-45e8-b720-fbacd36109ba",
   "metadata": {},
   "outputs": [
    {
     "data": {
      "text/plain": [
       "User ID                         int64\n",
       "Device Model                   object\n",
       "Operating System               object\n",
       "App Usage Time (min/day)        int64\n",
       "Screen On Time (hours/day)    float64\n",
       "Battery Drain (mAh/day)         int64\n",
       "Number of Apps Installed        int64\n",
       "Data Usage (MB/day)             int64\n",
       "Age                             int64\n",
       "Gender                         object\n",
       "User Behavior Class             int64\n",
       "dtype: object"
      ]
     },
     "execution_count": 6,
     "metadata": {},
     "output_type": "execute_result"
    }
   ],
   "source": [
    "data.dtypes"
   ]
  },
  {
   "cell_type": "markdown",
   "id": "0f0f6603-bf54-4ae3-81d3-a9744cba3222",
   "metadata": {},
   "source": [
    "After reviewing the dataset, we noticed that some columns, such as `User Behavior Class`, is using suboptimal data types. Below are the reasons for and suggested changes to the data types:"
   ]
  },
  {
   "cell_type": "markdown",
   "id": "cfe0dcf8-e5c6-4cad-afb9-41a79d9e2621",
   "metadata": {},
   "source": [
    "Convert *User Behavior Class* from `int64` to `category`: The User Behavior Class column contains integer values representing different user behavior classes (e.g., 0, 1, 2). If the number of unique behavior classes is small, converting this column to category can provide the following benefits:\n",
    "- The category data type reduces memory usage by storing unique class labels more efficiently.\n",
    "- Pandas can handle categorical data faster, especially when performing operations like grouping or aggregation."
   ]
  },
  {
   "cell_type": "code",
   "execution_count": 7,
   "id": "bdcda949-69fe-4a90-89ee-0bd0cc5d104f",
   "metadata": {},
   "outputs": [
    {
     "name": "stdout",
     "output_type": "stream",
     "text": [
      "User ID                          int64\n",
      "Device Model                    object\n",
      "Operating System                object\n",
      "App Usage Time (min/day)         int64\n",
      "Screen On Time (hours/day)     float64\n",
      "Battery Drain (mAh/day)          int64\n",
      "Number of Apps Installed         int64\n",
      "Data Usage (MB/day)              int64\n",
      "Age                              int64\n",
      "Gender                        category\n",
      "User Behavior Class              int64\n",
      "dtype: object\n"
     ]
    }
   ],
   "source": [
    "data['Gender'] = data['Gender'].astype('category')\n",
    "# Check the updated data types\n",
    "print(data.dtypes)"
   ]
  },
  {
   "cell_type": "markdown",
   "id": "4ed46c9d-d668-4ccb-86ef-fc6c412f2e04",
   "metadata": {},
   "source": [
    "### 3.4. With each numerical column, how are values distributed?"
   ]
  },
  {
   "cell_type": "code",
   "execution_count": 8,
   "id": "c4665976-96a5-4782-afa0-44f949571f30",
   "metadata": {},
   "outputs": [
    {
     "name": "stdout",
     "output_type": "stream",
     "text": [
      "\n",
      "Column: App Usage Time (min/day)\n",
      "  Missing Percentage: 0.0\n",
      "  Min: 30\n",
      "  Max: 598\n",
      "  Mean: 271.12857142857143\n",
      "  Std: 177.19948438266206\n",
      "  25%: 113.25\n",
      "  50% (Median): 227.5\n",
      "  75%: 434.25\n",
      "\n",
      "Column: Screen On Time (hours/day)\n",
      "  Missing Percentage: 0.0\n",
      "  Min: 1.0\n",
      "  Max: 12.0\n",
      "  Mean: 5.272714285714286\n",
      "  Std: 3.0685839102732553\n",
      "  25%: 2.5\n",
      "  50% (Median): 4.9\n",
      "  75%: 7.4\n",
      "\n",
      "Column: Battery Drain (mAh/day)\n",
      "  Missing Percentage: 0.0\n",
      "  Min: 302\n",
      "  Max: 2993\n",
      "  Mean: 1525.1585714285713\n",
      "  Std: 819.1364144757152\n",
      "  25%: 722.25\n",
      "  50% (Median): 1502.5\n",
      "  75%: 2229.5\n",
      "\n",
      "Column: Number of Apps Installed\n",
      "  Missing Percentage: 0.0\n",
      "  Min: 10\n",
      "  Max: 99\n",
      "  Mean: 50.68142857142857\n",
      "  Std: 26.943324147645118\n",
      "  25%: 26.0\n",
      "  50% (Median): 49.0\n",
      "  75%: 74.0\n",
      "\n",
      "Column: Data Usage (MB/day)\n",
      "  Missing Percentage: 0.0\n",
      "  Min: 102\n",
      "  Max: 2497\n",
      "  Mean: 929.7428571428571\n",
      "  Std: 640.4517291185034\n",
      "  25%: 373.0\n",
      "  50% (Median): 823.5\n",
      "  75%: 1341.0\n",
      "\n",
      "Column: Age\n",
      "  Missing Percentage: 0.0\n",
      "  Min: 18\n",
      "  Max: 59\n",
      "  Mean: 38.48285714285714\n",
      "  Std: 12.01291593214255\n",
      "  25%: 28.0\n",
      "  50% (Median): 38.0\n",
      "  75%: 49.0\n",
      "\n",
      "Column: User Behavior Class\n",
      "  Missing Percentage: 0.0\n",
      "  Min: 1\n",
      "  Max: 5\n",
      "  Mean: 2.99\n",
      "  Std: 1.4014758213488612\n",
      "  25%: 2.0\n",
      "  50% (Median): 3.0\n",
      "  75%: 4.0\n"
     ]
    }
   ],
   "source": [
    "numerical_columns = [\n",
    "    'App Usage Time (min/day)',\n",
    "    'Screen On Time (hours/day)',\n",
    "    'Battery Drain (mAh/day)',\n",
    "    'Number of Apps Installed',\n",
    "    'Data Usage (MB/day)',\n",
    "    'Age',\n",
    "    'User Behavior Class'\n",
    "]\n",
    "summary = {}\n",
    "\n",
    "for column in numerical_columns:\n",
    "    column_data = data[column]\n",
    "    summary[column] = {\n",
    "        'Missing Percentage': column_data.isnull().mean() * 100,\n",
    "        'Min': column_data.min(),\n",
    "        'Max': column_data.max(),\n",
    "        'Mean': column_data.mean(),\n",
    "        'Std': column_data.std(),\n",
    "        '25%': column_data.quantile(0.25),\n",
    "        '50% (Median)': column_data.median(),\n",
    "        '75%': column_data.quantile(0.75)\n",
    "    }\n",
    "# Display the summary results\n",
    "for column, stats in summary.items():\n",
    "    print(f\"\\nColumn: {column}\")\n",
    "    for stat, value in stats.items():\n",
    "        print(f\"  {stat}: {value}\")"
   ]
  },
  {
   "cell_type": "markdown",
   "id": "2d0b659b-3f9f-4740-800a-a1340beed46f",
   "metadata": {},
   "source": [
    "### 3.5. With each categorical column, how are values distributed?"
   ]
  },
  {
   "cell_type": "code",
   "execution_count": 9,
   "id": "82d98092-f033-4fc4-9873-567a2dba74ac",
   "metadata": {},
   "outputs": [
    {
     "name": "stdout",
     "output_type": "stream",
     "text": [
      "\n",
      "Column: Device Model\n",
      "  Missing Percentage: 0.0\n",
      "  Unique Values Count: 5\n",
      "  Sample Values: ['Google Pixel 5' 'OnePlus 9' 'Xiaomi Mi 11' 'iPhone 12'\n",
      " 'Samsung Galaxy S21']\n",
      "\n",
      "Column: Operating System\n",
      "  Missing Percentage: 0.0\n",
      "  Unique Values Count: 2\n",
      "  Sample Values: ['Android' 'iOS']\n",
      "\n",
      "Column: Gender\n",
      "  Missing Percentage: 0.0\n",
      "  Unique Values Count: 2\n",
      "  Sample Values: ['Male', 'Female']\n",
      "Categories (2, object): ['Female', 'Male']\n"
     ]
    }
   ],
   "source": [
    "categorical_columns = data.select_dtypes(include=['category', 'object']).columns\n",
    "categorical_summary = {}\n",
    "for column in categorical_columns:\n",
    "    column_data = data[column]\n",
    "    categorical_summary[column] = {\n",
    "        'Missing Percentage': column_data.isnull().mean() * 100,\n",
    "        'Unique Values Count': column_data.nunique(),\n",
    "        'Sample Values': column_data.unique()[:5]\n",
    "    }\n",
    "\n",
    "for column, stats in categorical_summary.items():\n",
    "    print(f\"\\nColumn: {column}\")\n",
    "    for stat, value in stats.items():\n",
    "        print(f\"  {stat}: {value}\")\n"
   ]
  },
  {
   "cell_type": "code",
   "execution_count": null,
   "id": "2227bd1b-8a98-412b-8fd4-fd2ee670ec20",
   "metadata": {},
   "outputs": [],
   "source": []
  },
  {
   "cell_type": "code",
   "execution_count": null,
   "id": "df3faaaf-2a50-4b7f-9f80-5211b185f5cb",
   "metadata": {},
   "outputs": [],
   "source": []
  }
 ],
 "metadata": {
  "kernelspec": {
   "display_name": "Python 3 (ipykernel)",
   "language": "python",
   "name": "python3"
  },
  "language_info": {
   "codemirror_mode": {
    "name": "ipython",
    "version": 3
   },
   "file_extension": ".py",
   "mimetype": "text/x-python",
   "name": "python",
   "nbconvert_exporter": "python",
   "pygments_lexer": "ipython3",
   "version": "3.10.8"
  }
 },
 "nbformat": 4,
 "nbformat_minor": 5
}
