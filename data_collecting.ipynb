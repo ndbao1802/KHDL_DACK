{
 "cells": [
  {
   "cell_type": "markdown",
   "id": "bffdc2cd-5130-4a28-9736-04dc42239efb",
   "metadata": {},
   "source": [
    "Import Modules"
   ]
  },
  {
   "cell_type": "code",
   "execution_count": 1,
   "id": "035cd40f-c578-444b-b4ca-38b0b2781ea2",
   "metadata": {},
   "outputs": [],
   "source": [
    "import pandas as pd"
   ]
  },
  {
   "cell_type": "code",
   "execution_count": null,
   "id": "a0a32e88-a921-41c9-996c-2097ec7b6929",
   "metadata": {},
   "outputs": [],
   "source": [
    "I - Data Cleaning"
   ]
  },
  {
   "cell_type": "code",
   "execution_count": 30,
   "id": "79b62cd7-1198-4497-bd35-8b0488460fbb",
   "metadata": {},
   "outputs": [
    {
     "name": "stdout",
     "output_type": "stream",
     "text": [
      "<class 'pandas.core.frame.DataFrame'>\n",
      "RangeIndex: 700 entries, 0 to 699\n",
      "Data columns (total 11 columns):\n",
      " #   Column                      Non-Null Count  Dtype  \n",
      "---  ------                      --------------  -----  \n",
      " 0   User ID                     700 non-null    int64  \n",
      " 1   Device Model                700 non-null    object \n",
      " 2   Operating System            700 non-null    object \n",
      " 3   App Usage Time (min/day)    700 non-null    int64  \n",
      " 4   Screen On Time (hours/day)  700 non-null    float64\n",
      " 5   Battery Drain (mAh/day)     700 non-null    int64  \n",
      " 6   Number of Apps Installed    700 non-null    int64  \n",
      " 7   Data Usage (MB/day)         700 non-null    int64  \n",
      " 8   Age                         700 non-null    int64  \n",
      " 9   Gender                      700 non-null    object \n",
      " 10  User Behavior Class         700 non-null    int64  \n",
      "dtypes: float64(1), int64(7), object(3)\n",
      "memory usage: 60.3+ KB\n"
     ]
    }
   ],
   "source": [
    "df = pd.read_csv('user_behavior_dataset.csv')\n",
    "df.info()"
   ]
  },
  {
   "cell_type": "markdown",
   "id": "8acd405f-95e3-460a-8c2a-51449f8b6b62",
   "metadata": {},
   "source": [
    "Checking if there are missing data in the data file or not"
   ]
  },
  {
   "cell_type": "code",
   "execution_count": 31,
   "id": "c34ce061-ef99-4731-b89f-458268dddb40",
   "metadata": {},
   "outputs": [
    {
     "name": "stdout",
     "output_type": "stream",
     "text": [
      "Missing values in each column:\n",
      "User ID                       0\n",
      "Device Model                  0\n",
      "Operating System              0\n",
      "App Usage Time (min/day)      0\n",
      "Screen On Time (hours/day)    0\n",
      "Battery Drain (mAh/day)       0\n",
      "Number of Apps Installed      0\n",
      "Data Usage (MB/day)           0\n",
      "Age                           0\n",
      "Gender                        0\n",
      "User Behavior Class           0\n",
      "dtype: int64\n"
     ]
    }
   ],
   "source": [
    "print(\"Missing values in each column:\")\n",
    "print(df.isnull().sum())"
   ]
  },
  {
   "cell_type": "markdown",
   "id": "8ffc1156-cb45-46f6-b273-7a51094994ac",
   "metadata": {},
   "source": [
    "Base on the result of the code, looks like there's no missing value in each column so it's safe to say that the data is already cleaned"
   ]
  },
  {
   "cell_type": "markdown",
   "id": "5db08149-a685-4db4-98db-9d53aa706024",
   "metadata": {},
   "source": [
    "For easy data analysis, the two column \"App Usage Time\" and \"Screen On Time\" should be changed to have the common unit. At first, in the original data file, \"App Usage Time\" is in minutes per day (min/day) while \"Screen on Time\" is in hours per day (hours/day) so the two data should have the same unit so that the analysis can be accurate and easy to compare with other data"
   ]
  },
  {
   "cell_type": "code",
   "execution_count": 32,
   "id": "e31d6180-2edb-4df4-bf2e-1ca6759b1503",
   "metadata": {},
   "outputs": [
    {
     "data": {
      "text/plain": [
       "count    700.000000\n",
       "mean     271.128571\n",
       "std      177.199484\n",
       "min       30.000000\n",
       "25%      113.250000\n",
       "50%      227.500000\n",
       "75%      434.250000\n",
       "max      598.000000\n",
       "Name: App Usage Time (min/day), dtype: float64"
      ]
     },
     "execution_count": 32,
     "metadata": {},
     "output_type": "execute_result"
    }
   ],
   "source": [
    "df['App Usage Time (min/day)'].describe()"
   ]
  },
  {
   "cell_type": "code",
   "execution_count": 33,
   "id": "20447673-f903-4f3d-a77b-25af259d941b",
   "metadata": {},
   "outputs": [
    {
     "data": {
      "text/plain": [
       "count    700.000000\n",
       "mean       5.272714\n",
       "std        3.068584\n",
       "min        1.000000\n",
       "25%        2.500000\n",
       "50%        4.900000\n",
       "75%        7.400000\n",
       "max       12.000000\n",
       "Name: Screen On Time (hours/day), dtype: float64"
      ]
     },
     "execution_count": 33,
     "metadata": {},
     "output_type": "execute_result"
    }
   ],
   "source": [
    "df['Screen On Time (hours/day)'].describe()"
   ]
  },
  {
   "cell_type": "code",
   "execution_count": 34,
   "id": "233f278d-3836-443b-83ab-b58d649f5f10",
   "metadata": {},
   "outputs": [],
   "source": [
    "df['Screen On Time (min/day)'] = df['Screen On Time (hours/day)'] * 60"
   ]
  },
  {
   "cell_type": "code",
   "execution_count": 35,
   "id": "bbffd7bf-a928-44be-902d-bb910773e195",
   "metadata": {},
   "outputs": [
    {
     "data": {
      "text/html": [
       "<div>\n",
       "<style scoped>\n",
       "    .dataframe tbody tr th:only-of-type {\n",
       "        vertical-align: middle;\n",
       "    }\n",
       "\n",
       "    .dataframe tbody tr th {\n",
       "        vertical-align: top;\n",
       "    }\n",
       "\n",
       "    .dataframe thead th {\n",
       "        text-align: right;\n",
       "    }\n",
       "</style>\n",
       "<table border=\"1\" class=\"dataframe\">\n",
       "  <thead>\n",
       "    <tr style=\"text-align: right;\">\n",
       "      <th></th>\n",
       "      <th>App Usage Time (min/day)</th>\n",
       "      <th>Screen On Time (min/day)</th>\n",
       "    </tr>\n",
       "  </thead>\n",
       "  <tbody>\n",
       "    <tr>\n",
       "      <th>0</th>\n",
       "      <td>393</td>\n",
       "      <td>384.0</td>\n",
       "    </tr>\n",
       "    <tr>\n",
       "      <th>1</th>\n",
       "      <td>268</td>\n",
       "      <td>282.0</td>\n",
       "    </tr>\n",
       "    <tr>\n",
       "      <th>2</th>\n",
       "      <td>154</td>\n",
       "      <td>240.0</td>\n",
       "    </tr>\n",
       "    <tr>\n",
       "      <th>3</th>\n",
       "      <td>239</td>\n",
       "      <td>288.0</td>\n",
       "    </tr>\n",
       "    <tr>\n",
       "      <th>4</th>\n",
       "      <td>187</td>\n",
       "      <td>258.0</td>\n",
       "    </tr>\n",
       "    <tr>\n",
       "      <th>...</th>\n",
       "      <td>...</td>\n",
       "      <td>...</td>\n",
       "    </tr>\n",
       "    <tr>\n",
       "      <th>695</th>\n",
       "      <td>92</td>\n",
       "      <td>234.0</td>\n",
       "    </tr>\n",
       "    <tr>\n",
       "      <th>696</th>\n",
       "      <td>316</td>\n",
       "      <td>408.0</td>\n",
       "    </tr>\n",
       "    <tr>\n",
       "      <th>697</th>\n",
       "      <td>99</td>\n",
       "      <td>186.0</td>\n",
       "    </tr>\n",
       "    <tr>\n",
       "      <th>698</th>\n",
       "      <td>62</td>\n",
       "      <td>102.0</td>\n",
       "    </tr>\n",
       "    <tr>\n",
       "      <th>699</th>\n",
       "      <td>212</td>\n",
       "      <td>324.0</td>\n",
       "    </tr>\n",
       "  </tbody>\n",
       "</table>\n",
       "<p>700 rows × 2 columns</p>\n",
       "</div>"
      ],
      "text/plain": [
       "     App Usage Time (min/day)  Screen On Time (min/day)\n",
       "0                         393                     384.0\n",
       "1                         268                     282.0\n",
       "2                         154                     240.0\n",
       "3                         239                     288.0\n",
       "4                         187                     258.0\n",
       "..                        ...                       ...\n",
       "695                        92                     234.0\n",
       "696                       316                     408.0\n",
       "697                        99                     186.0\n",
       "698                        62                     102.0\n",
       "699                       212                     324.0\n",
       "\n",
       "[700 rows x 2 columns]"
      ]
     },
     "execution_count": 35,
     "metadata": {},
     "output_type": "execute_result"
    }
   ],
   "source": [
    "df[['App Usage Time (min/day)', 'Screen On Time (min/day)']]"
   ]
  },
  {
   "cell_type": "code",
   "execution_count": 36,
   "id": "a41cfaaf-853c-4a8e-9c0d-e52605eb5d82",
   "metadata": {},
   "outputs": [],
   "source": [
    "df.drop(columns=['Screen On Time (hours/day)'], inplace=True)\n",
    "cols = df.columns.tolist()\n",
    "app_usage_index = cols.index('App Usage Time (min/day)')\n",
    "cols.insert(app_usage_index + 1, cols.pop(cols.index('Screen On Time (min/day)')))\n",
    "df = df[cols]\n",
    "df.head()\n",
    "df.to_csv('cleaned_data_unified_time.csv', index=False)"
   ]
  },
  {
   "cell_type": "markdown",
   "id": "9d556a58-e859-44a8-bc3f-1b38d939e714",
   "metadata": {},
   "source": [
    "For further use, I'll separate the code into 4 other files to help the analysis becomes more accurate and detailed"
   ]
  },
  {
   "cell_type": "code",
   "execution_count": 38,
   "id": "3fbd8ca7-fc42-45f9-9202-4617f5e4dd32",
   "metadata": {},
   "outputs": [],
   "source": [
    "# Filter data for Male Users\n",
    "df_male = df[df['Gender'] == 'Male']\n",
    "\n",
    "# Filter data for Female Users\n",
    "df_female = df[df['Gender'] == 'Female']\n",
    "\n",
    "# Filter data for iOS Users\n",
    "df_ios = df[df['Operating System'] == 'iOS']\n",
    "\n",
    "# Filter data for Android Users\n",
    "df_android = df[df['Operating System'] == 'Android']\n",
    "\n",
    "# Save each filtered dataset to a new CSV file\n",
    "# Male User data\n",
    "df_male.to_csv('cleaned_data_male.csv', index=False)\n",
    "\n",
    "# Female User data\n",
    "df_female.to_csv('cleaned_data_female.csv', index=False)\n",
    "\n",
    "# iOS User data\n",
    "df_ios.to_csv('cleaned_data_ios.csv', index=False)\n",
    "\n",
    "# Android User data\n",
    "df_android.to_csv('cleaned_data_android.csv', index=False)"
   ]
  },
  {
   "cell_type": "code",
   "execution_count": null,
   "id": "7bf5edef-74b5-42f5-b07d-66cf6da2ef20",
   "metadata": {},
   "outputs": [],
   "source": []
  }
 ],
 "metadata": {
  "kernelspec": {
   "display_name": "Python 3 (ipykernel)",
   "language": "python",
   "name": "python3"
  },
  "language_info": {
   "codemirror_mode": {
    "name": "ipython",
    "version": 3
   },
   "file_extension": ".py",
   "mimetype": "text/x-python",
   "name": "python",
   "nbconvert_exporter": "python",
   "pygments_lexer": "ipython3",
   "version": "3.12.7"
  }
 },
 "nbformat": 4,
 "nbformat_minor": 5
}
